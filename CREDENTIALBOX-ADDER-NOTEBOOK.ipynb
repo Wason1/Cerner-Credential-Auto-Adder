{
 "cells": [
  {
   "cell_type": "markdown",
   "metadata": {},
   "source": [
    "##### Set Initial Conditions"
   ]
  },
  {
   "cell_type": "code",
   "execution_count": 34,
   "metadata": {},
   "outputs": [],
   "source": [
    "start_day = 1\n",
    "start_month = 1\n",
    "start_year = 2015\n",
    "users_to_add = 100"
   ]
  },
  {
   "cell_type": "markdown",
   "metadata": {},
   "source": [
    "#### Import Libraries"
   ]
  },
  {
   "cell_type": "code",
   "execution_count": 35,
   "metadata": {},
   "outputs": [],
   "source": [
    "import pyautogui\n",
    "import time\n",
    "import pygetwindow as gw\n",
    "import sys #used for exiting script\n",
    "from ahk import AHK\n",
    "ahk = AHK()\n",
    "pyautogui.FAILSAFE = True"
   ]
  },
  {
   "cell_type": "markdown",
   "metadata": {},
   "source": [
    "#### Check that HNA User Window Activates"
   ]
  },
  {
   "cell_type": "code",
   "execution_count": 39,
   "metadata": {},
   "outputs": [
    {
     "name": "stdout",
     "output_type": "stream",
     "text": [
      "could not maximise User Maintenance window\n",
      "DO NOT PROCEED\n"
     ]
    }
   ],
   "source": [
    " # Activate HNA User Window Pre script run test\n",
    "try:\n",
    "    myWindow = gw.getWindowsWithTitle('User Maint')[0]\n",
    "    time.sleep(0.2)\n",
    "    myWindow.activate()\n",
    "    time.sleep(0.2)\n",
    "    myWindow.maximize()\n",
    "    time.sleep(0.2)\n",
    "except:\n",
    "    print('could not maximise User Maintenance window')\n",
    "    print('DO NOT PROCEED')\n",
    "    "
   ]
  },
  {
   "cell_type": "markdown",
   "metadata": {},
   "source": [
    "#### If window Activates Run the Script"
   ]
  },
  {
   "cell_type": "code",
   "execution_count": null,
   "metadata": {},
   "outputs": [],
   "source": [
    "# Activate HNA User Window\n",
    "    try:\n",
    "        myWindow = gw.getWindowsWithTitle('User Maint')[0]\n",
    "        myWindow.activate()\n",
    "        time.sleep(0.2)\n",
    "        myWindow.maximize()\n",
    "    except:\n",
    "        print('could not maximise User Maintenance window')\n",
    "        sys.exit(1) # stop the script\n",
    "\n",
    "    time.sleep(1)\n",
    "\n",
    "    # Switch Search Field to Username\n",
    "    ahk.key_press('F10')\n",
    "    time.sleep(0.2)\n",
    "    ahk.key_press('down')\n",
    "    time.sleep(0.2)\n",
    "    ahk.key_press('down')\n",
    "    time.sleep(0.2)\n",
    "    ahk.key_press('down')\n",
    "    time.sleep(0.2)\n",
    "    ahk.key_press('down')\n",
    "    time.sleep(0.2)\n",
    "    ahk.key_press('right')\n",
    "    time.sleep(0.2)\n",
    "    ahk.key_press('down')\n",
    "    time.sleep(0.2)\n",
    "    ahk.key_press('enter')\n",
    "    time.sleep(0.2)\n",
    "    ahk.key_press('tab')\n",
    "    time.sleep(0.2)\n",
    "    # Open Credential Box\n",
    "    user = 'credentialbox'\n",
    "    pyautogui.typewrite(user, interval=0.1)\n",
    "    ahk.key_press('Enter')\n",
    "    # Select Credential Button\n",
    "    time.sleep(1)\n",
    "    ahk.key_press('f10')\n",
    "    time.sleep(0.2)\n",
    "    ahk.key_press('down')\n",
    "    time.sleep(0.2)\n",
    "    ahk.key_press('down')\n",
    "    time.sleep(0.2)\n",
    "    ahk.key_press('right')\n",
    "    time.sleep(0.2)\n",
    "    ahk.key_press('c')\n",
    "    time.sleep(1)\n",
    "\n",
    "    count = int(0)\n",
    "    while count < users_to_add:  \n",
    "        # Click on create new credential\n",
    "        if count == 0:\n",
    "            time.sleep(0.2)\n",
    "            ahk.key_press('tab')\n",
    "            time.sleep(0.2)\n",
    "            ahk.key_press('tab')\n",
    "            time.sleep(0.2)\n",
    "            ahk.key_press('tab')\n",
    "            time.sleep(0.2)\n",
    "            ahk.key_press('tab')\n",
    "            time.sleep(0.2)\n",
    "            ahk.key_press('down')\n",
    "            time.sleep(0.2)\n",
    "            ahk.key_press('tab')\n",
    "            time.sleep(0.2)\n",
    "        else:\n",
    "            time.sleep(0.2)\n",
    "            ahk.key_press('tab')\n",
    "            time.sleep(0.2)\n",
    "            ahk.key_press('tab')\n",
    "            time.sleep(0.2)\n",
    "            ahk.key_press('down')\n",
    "            time.sleep(0.2)\n",
    "            ahk.key_press('tab')\n",
    "            time.sleep(0.2)     \n",
    "        #Choose Credential\n",
    "        to_type = 'a'\n",
    "        pyautogui.typewrite(to_type, interval=0.1)\n",
    "        time.sleep(0.2)\n",
    "        # Go to type of licence\n",
    "        ahk.key_press('tab')\n",
    "        time.sleep(0.4)\n",
    "        # Choose Licence\n",
    "        ahk.key_press('l')\n",
    "        time.sleep(0.2)\n",
    "        ahk.key_press('tab')\n",
    "        time.sleep(0.2)\n",
    "        ahk.key_press('tab')\n",
    "        time.sleep(0.2)\n",
    "        ahk.key_press('tab')\n",
    "        time.sleep(0.2)\n",
    "        ahk.key_press('tab')\n",
    "        time.sleep(0.2)\n",
    "        # Enter date\n",
    "        day = \"{0:0=2d}\".format(start_day) # convert two digit\n",
    "        month = \"{0:0=2d}\".format(start_month) # convert two digit\n",
    "        year = str(start_year) # year to string\n",
    "        pyautogui.typewrite(day, interval=0.1)\n",
    "        pyautogui.typewrite(month, interval=0.1)\n",
    "        pyautogui.typewrite(year, interval=0.1)\n",
    "        # Get date for next round\n",
    "        start_day +=1\n",
    "        if start_day > 25:\n",
    "            start_day = int(1)\n",
    "            start_month += 1\n",
    "        if start_month > 12:\n",
    "            start_day = 1\n",
    "            start_month = 1\n",
    "            start_year +=1\n",
    "        # Hit Apply\n",
    "        time.sleep(0.2)\n",
    "        ahk.key_press('tab')\n",
    "        time.sleep(0.2)\n",
    "        ahk.key_press('tab')\n",
    "        time.sleep(0.2)\n",
    "        ahk.key_press('tab')\n",
    "        time.sleep(0.2)\n",
    "        ahk.key_press('tab')\n",
    "        time.sleep(0.2)\n",
    "        ahk.key_press('tab')\n",
    "        time.sleep(0.2)\n",
    "        ahk.key_press('tab')\n",
    "        time.sleep(0.2)\n",
    "        ahk.key_press('tab')\n",
    "        time.sleep(0.2)\n",
    "        ahk.key_press('enter')\n",
    "        time.sleep(2)\n",
    "        # delete credential\n",
    "        ahk.key_press('tab')\n",
    "        time.sleep(0.2)\n",
    "        ahk.key_press('tab')\n",
    "        time.sleep(0.2)\n",
    "        ahk.key_press('space')\n",
    "        time.sleep(0.2)\n",
    "        ahk.key_press('tab')\n",
    "        time.sleep(0.2)\n",
    "        ahk.key_press('tab')\n",
    "        time.sleep(0.2)\n",
    "        ahk.key_press('enter')\n",
    "        # Apply deletion\n",
    "        time.sleep(0.2)\n",
    "        ahk.key_press('tab')\n",
    "        time.sleep(0.2)\n",
    "        ahk.key_press('tab')\n",
    "        time.sleep(0.2)\n",
    "        ahk.key_press('enter')\n",
    "        time.sleep(1)\n",
    "        count +=1"
   ]
  }
 ],
 "metadata": {
  "interpreter": {
   "hash": "a93990492e1f73306ba11502f664f1b2783b183249f6329832324b83a08fcef2"
  },
  "kernelspec": {
   "display_name": "Python 3.9.7 ('base')",
   "language": "python",
   "name": "python3"
  },
  "language_info": {
   "codemirror_mode": {
    "name": "ipython",
    "version": 3
   },
   "file_extension": ".py",
   "mimetype": "text/x-python",
   "name": "python",
   "nbconvert_exporter": "python",
   "pygments_lexer": "ipython3",
   "version": "3.9.7"
  },
  "orig_nbformat": 4
 },
 "nbformat": 4,
 "nbformat_minor": 2
}
